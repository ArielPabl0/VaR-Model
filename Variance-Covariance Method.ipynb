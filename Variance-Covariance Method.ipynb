{
 "cells": [
  {
   "cell_type": "code",
   "execution_count": 1,
   "metadata": {},
   "outputs": [],
   "source": [
    "#pip install yfinance"
   ]
  },
  {
   "cell_type": "code",
   "execution_count": 32,
   "metadata": {},
   "outputs": [],
   "source": [
    "import yfinance as yf, numpy as np, datetime as dt, matplotlib.pyplot as plt\n",
    "from scipy.stats import norm \n"
   ]
  },
  {
   "cell_type": "markdown",
   "metadata": {},
   "source": [
    "BUILD IMAGINARY POTFOLIO"
   ]
  },
  {
   "cell_type": "markdown",
   "metadata": {},
   "source": [
    "Download stock data "
   ]
  },
  {
   "cell_type": "code",
   "execution_count": 37,
   "metadata": {},
   "outputs": [],
   "source": [
    "#1. Pick 10 companys\n",
    "tickers = ['AAPL', 'BAC', 'C', 'DIS', 'F', 'MSFT', 'MS','GME', 'TSLA', 'AMZN'] \n",
    "weights = np.array([0.1, 0.1,0.1,0.1,0.1,0.1,0.1,0.1,0.1,0.1])"
   ]
  },
  {
   "cell_type": "code",
   "execution_count": 60,
   "metadata": {},
   "outputs": [
    {
     "name": "stdout",
     "output_type": "stream",
     "text": [
      "[*********************100%***********************]  1 of 1 completed\n"
     ]
    },
    {
     "data": {
      "text/html": [
       "<div>\n",
       "<style scoped>\n",
       "    .dataframe tbody tr th:only-of-type {\n",
       "        vertical-align: middle;\n",
       "    }\n",
       "\n",
       "    .dataframe tbody tr th {\n",
       "        vertical-align: top;\n",
       "    }\n",
       "\n",
       "    .dataframe thead th {\n",
       "        text-align: right;\n",
       "    }\n",
       "</style>\n",
       "<table border=\"1\" class=\"dataframe\">\n",
       "  <thead>\n",
       "    <tr style=\"text-align: right;\">\n",
       "      <th></th>\n",
       "      <th>Open</th>\n",
       "      <th>High</th>\n",
       "      <th>Low</th>\n",
       "      <th>Close</th>\n",
       "      <th>Adj Close</th>\n",
       "      <th>Volume</th>\n",
       "    </tr>\n",
       "    <tr>\n",
       "      <th>Date</th>\n",
       "      <th></th>\n",
       "      <th></th>\n",
       "      <th></th>\n",
       "      <th></th>\n",
       "      <th></th>\n",
       "      <th></th>\n",
       "    </tr>\n",
       "  </thead>\n",
       "  <tbody>\n",
       "    <tr>\n",
       "      <th>2019-01-02</th>\n",
       "      <td>38.722500</td>\n",
       "      <td>39.712502</td>\n",
       "      <td>38.557499</td>\n",
       "      <td>39.480000</td>\n",
       "      <td>38.168350</td>\n",
       "      <td>148158800</td>\n",
       "    </tr>\n",
       "    <tr>\n",
       "      <th>2019-01-03</th>\n",
       "      <td>35.994999</td>\n",
       "      <td>36.430000</td>\n",
       "      <td>35.500000</td>\n",
       "      <td>35.547501</td>\n",
       "      <td>34.366497</td>\n",
       "      <td>365248800</td>\n",
       "    </tr>\n",
       "    <tr>\n",
       "      <th>2019-01-04</th>\n",
       "      <td>36.132500</td>\n",
       "      <td>37.137501</td>\n",
       "      <td>35.950001</td>\n",
       "      <td>37.064999</td>\n",
       "      <td>35.833580</td>\n",
       "      <td>234428400</td>\n",
       "    </tr>\n",
       "    <tr>\n",
       "      <th>2019-01-07</th>\n",
       "      <td>37.174999</td>\n",
       "      <td>37.207500</td>\n",
       "      <td>36.474998</td>\n",
       "      <td>36.982498</td>\n",
       "      <td>35.753815</td>\n",
       "      <td>219111200</td>\n",
       "    </tr>\n",
       "    <tr>\n",
       "      <th>2019-01-08</th>\n",
       "      <td>37.389999</td>\n",
       "      <td>37.955002</td>\n",
       "      <td>37.130001</td>\n",
       "      <td>37.687500</td>\n",
       "      <td>36.435398</td>\n",
       "      <td>164101200</td>\n",
       "    </tr>\n",
       "    <tr>\n",
       "      <th>...</th>\n",
       "      <td>...</td>\n",
       "      <td>...</td>\n",
       "      <td>...</td>\n",
       "      <td>...</td>\n",
       "      <td>...</td>\n",
       "      <td>...</td>\n",
       "    </tr>\n",
       "    <tr>\n",
       "      <th>2022-10-04</th>\n",
       "      <td>145.029999</td>\n",
       "      <td>146.220001</td>\n",
       "      <td>144.259995</td>\n",
       "      <td>146.100006</td>\n",
       "      <td>146.100006</td>\n",
       "      <td>87830100</td>\n",
       "    </tr>\n",
       "    <tr>\n",
       "      <th>2022-10-05</th>\n",
       "      <td>144.070007</td>\n",
       "      <td>147.380005</td>\n",
       "      <td>143.009995</td>\n",
       "      <td>146.399994</td>\n",
       "      <td>146.399994</td>\n",
       "      <td>79471000</td>\n",
       "    </tr>\n",
       "    <tr>\n",
       "      <th>2022-10-06</th>\n",
       "      <td>145.809998</td>\n",
       "      <td>147.539993</td>\n",
       "      <td>145.220001</td>\n",
       "      <td>145.429993</td>\n",
       "      <td>145.429993</td>\n",
       "      <td>68402200</td>\n",
       "    </tr>\n",
       "    <tr>\n",
       "      <th>2022-10-07</th>\n",
       "      <td>142.539993</td>\n",
       "      <td>143.100006</td>\n",
       "      <td>139.449997</td>\n",
       "      <td>140.089996</td>\n",
       "      <td>140.089996</td>\n",
       "      <td>85859100</td>\n",
       "    </tr>\n",
       "    <tr>\n",
       "      <th>2022-10-10</th>\n",
       "      <td>140.419998</td>\n",
       "      <td>140.630005</td>\n",
       "      <td>138.572906</td>\n",
       "      <td>139.660095</td>\n",
       "      <td>139.660095</td>\n",
       "      <td>24966248</td>\n",
       "    </tr>\n",
       "  </tbody>\n",
       "</table>\n",
       "<p>951 rows × 6 columns</p>\n",
       "</div>"
      ],
      "text/plain": [
       "                  Open        High         Low       Close   Adj Close  \\\n",
       "Date                                                                     \n",
       "2019-01-02   38.722500   39.712502   38.557499   39.480000   38.168350   \n",
       "2019-01-03   35.994999   36.430000   35.500000   35.547501   34.366497   \n",
       "2019-01-04   36.132500   37.137501   35.950001   37.064999   35.833580   \n",
       "2019-01-07   37.174999   37.207500   36.474998   36.982498   35.753815   \n",
       "2019-01-08   37.389999   37.955002   37.130001   37.687500   36.435398   \n",
       "...                ...         ...         ...         ...         ...   \n",
       "2022-10-04  145.029999  146.220001  144.259995  146.100006  146.100006   \n",
       "2022-10-05  144.070007  147.380005  143.009995  146.399994  146.399994   \n",
       "2022-10-06  145.809998  147.539993  145.220001  145.429993  145.429993   \n",
       "2022-10-07  142.539993  143.100006  139.449997  140.089996  140.089996   \n",
       "2022-10-10  140.419998  140.630005  138.572906  139.660095  139.660095   \n",
       "\n",
       "               Volume  \n",
       "Date                   \n",
       "2019-01-02  148158800  \n",
       "2019-01-03  365248800  \n",
       "2019-01-04  234428400  \n",
       "2019-01-07  219111200  \n",
       "2019-01-08  164101200  \n",
       "...               ...  \n",
       "2022-10-04   87830100  \n",
       "2022-10-05   79471000  \n",
       "2022-10-06   68402200  \n",
       "2022-10-07   85859100  \n",
       "2022-10-10   24966248  \n",
       "\n",
       "[951 rows x 6 columns]"
      ]
     },
     "execution_count": 60,
     "metadata": {},
     "output_type": "execute_result"
    }
   ],
   "source": [
    "#Determine time frame and download data for a SINGLE stock\n",
    "start = dt.datetime(2019,1,1)\n",
    "end = dt.datetime.now()\n",
    "\n",
    "df = yf.download('AAPL', start, end)\n",
    "df\n",
    "\n",
    "# we just care about 'adjusted close' column"
   ]
  },
  {
   "cell_type": "code",
   "execution_count": 39,
   "metadata": {},
   "outputs": [
    {
     "name": "stdout",
     "output_type": "stream",
     "text": [
      "[*********************100%***********************]  10 of 10 completed\n"
     ]
    },
    {
     "data": {
      "text/html": [
       "<div>\n",
       "<style scoped>\n",
       "    .dataframe tbody tr th:only-of-type {\n",
       "        vertical-align: middle;\n",
       "    }\n",
       "\n",
       "    .dataframe tbody tr th {\n",
       "        vertical-align: top;\n",
       "    }\n",
       "\n",
       "    .dataframe thead th {\n",
       "        text-align: right;\n",
       "    }\n",
       "</style>\n",
       "<table border=\"1\" class=\"dataframe\">\n",
       "  <thead>\n",
       "    <tr style=\"text-align: right;\">\n",
       "      <th></th>\n",
       "      <th>AAPL</th>\n",
       "      <th>AMZN</th>\n",
       "      <th>BAC</th>\n",
       "      <th>C</th>\n",
       "      <th>DIS</th>\n",
       "      <th>F</th>\n",
       "      <th>GME</th>\n",
       "      <th>MS</th>\n",
       "      <th>MSFT</th>\n",
       "      <th>TSLA</th>\n",
       "    </tr>\n",
       "    <tr>\n",
       "      <th>Date</th>\n",
       "      <th></th>\n",
       "      <th></th>\n",
       "      <th></th>\n",
       "      <th></th>\n",
       "      <th></th>\n",
       "      <th></th>\n",
       "      <th></th>\n",
       "      <th></th>\n",
       "      <th></th>\n",
       "      <th></th>\n",
       "    </tr>\n",
       "  </thead>\n",
       "  <tbody>\n",
       "    <tr>\n",
       "      <th>2019-01-02</th>\n",
       "      <td>38.168354</td>\n",
       "      <td>76.956497</td>\n",
       "      <td>22.921091</td>\n",
       "      <td>47.212688</td>\n",
       "      <td>107.654335</td>\n",
       "      <td>7.092320</td>\n",
       "      <td>3.160276</td>\n",
       "      <td>36.308510</td>\n",
       "      <td>97.147697</td>\n",
       "      <td>20.674667</td>\n",
       "    </tr>\n",
       "    <tr>\n",
       "      <th>2019-01-03</th>\n",
       "      <td>34.366501</td>\n",
       "      <td>75.014000</td>\n",
       "      <td>22.553764</td>\n",
       "      <td>46.357166</td>\n",
       "      <td>105.046211</td>\n",
       "      <td>6.984589</td>\n",
       "      <td>3.136097</td>\n",
       "      <td>35.661430</td>\n",
       "      <td>93.573845</td>\n",
       "      <td>20.024000</td>\n",
       "    </tr>\n",
       "    <tr>\n",
       "      <th>2019-01-04</th>\n",
       "      <td>35.833580</td>\n",
       "      <td>78.769501</td>\n",
       "      <td>23.490444</td>\n",
       "      <td>48.623863</td>\n",
       "      <td>108.286606</td>\n",
       "      <td>7.253917</td>\n",
       "      <td>3.684974</td>\n",
       "      <td>37.117363</td>\n",
       "      <td>97.925880</td>\n",
       "      <td>21.179333</td>\n",
       "    </tr>\n",
       "    <tr>\n",
       "      <th>2019-01-07</th>\n",
       "      <td>35.753822</td>\n",
       "      <td>81.475502</td>\n",
       "      <td>23.472076</td>\n",
       "      <td>49.047222</td>\n",
       "      <td>109.225136</td>\n",
       "      <td>7.442448</td>\n",
       "      <td>3.743005</td>\n",
       "      <td>37.485836</td>\n",
       "      <td>98.050781</td>\n",
       "      <td>22.330667</td>\n",
       "    </tr>\n",
       "    <tr>\n",
       "      <th>2019-01-08</th>\n",
       "      <td>36.435398</td>\n",
       "      <td>82.829002</td>\n",
       "      <td>23.426165</td>\n",
       "      <td>48.914913</td>\n",
       "      <td>110.074760</td>\n",
       "      <td>7.514268</td>\n",
       "      <td>3.822798</td>\n",
       "      <td>37.252171</td>\n",
       "      <td>98.761703</td>\n",
       "      <td>22.356667</td>\n",
       "    </tr>\n",
       "    <tr>\n",
       "      <th>...</th>\n",
       "      <td>...</td>\n",
       "      <td>...</td>\n",
       "      <td>...</td>\n",
       "      <td>...</td>\n",
       "      <td>...</td>\n",
       "      <td>...</td>\n",
       "      <td>...</td>\n",
       "      <td>...</td>\n",
       "      <td>...</td>\n",
       "      <td>...</td>\n",
       "    </tr>\n",
       "    <tr>\n",
       "      <th>2022-10-03</th>\n",
       "      <td>142.449997</td>\n",
       "      <td>115.879997</td>\n",
       "      <td>31.090000</td>\n",
       "      <td>42.560001</td>\n",
       "      <td>97.129997</td>\n",
       "      <td>11.470000</td>\n",
       "      <td>25.379999</td>\n",
       "      <td>80.379997</td>\n",
       "      <td>240.740005</td>\n",
       "      <td>242.399994</td>\n",
       "    </tr>\n",
       "    <tr>\n",
       "      <th>2022-10-04</th>\n",
       "      <td>146.100006</td>\n",
       "      <td>121.089996</td>\n",
       "      <td>32.380001</td>\n",
       "      <td>44.410000</td>\n",
       "      <td>101.440002</td>\n",
       "      <td>12.360000</td>\n",
       "      <td>27.600000</td>\n",
       "      <td>83.970001</td>\n",
       "      <td>248.880005</td>\n",
       "      <td>249.440002</td>\n",
       "    </tr>\n",
       "    <tr>\n",
       "      <th>2022-10-05</th>\n",
       "      <td>146.399994</td>\n",
       "      <td>120.949997</td>\n",
       "      <td>31.920000</td>\n",
       "      <td>43.840000</td>\n",
       "      <td>100.800003</td>\n",
       "      <td>12.510000</td>\n",
       "      <td>26.389999</td>\n",
       "      <td>83.110001</td>\n",
       "      <td>249.199997</td>\n",
       "      <td>240.809998</td>\n",
       "    </tr>\n",
       "    <tr>\n",
       "      <th>2022-10-06</th>\n",
       "      <td>145.429993</td>\n",
       "      <td>120.300003</td>\n",
       "      <td>31.459999</td>\n",
       "      <td>43.060001</td>\n",
       "      <td>100.040001</td>\n",
       "      <td>12.360000</td>\n",
       "      <td>25.990000</td>\n",
       "      <td>81.309998</td>\n",
       "      <td>246.789993</td>\n",
       "      <td>238.130005</td>\n",
       "    </tr>\n",
       "    <tr>\n",
       "      <th>2022-10-07</th>\n",
       "      <td>140.089996</td>\n",
       "      <td>114.559998</td>\n",
       "      <td>30.750000</td>\n",
       "      <td>42.189999</td>\n",
       "      <td>97.160004</td>\n",
       "      <td>12.200000</td>\n",
       "      <td>25.350000</td>\n",
       "      <td>78.930000</td>\n",
       "      <td>234.240005</td>\n",
       "      <td>223.070007</td>\n",
       "    </tr>\n",
       "  </tbody>\n",
       "</table>\n",
       "<p>950 rows × 10 columns</p>\n",
       "</div>"
      ],
      "text/plain": [
       "                  AAPL        AMZN        BAC          C         DIS  \\\n",
       "Date                                                                   \n",
       "2019-01-02   38.168354   76.956497  22.921091  47.212688  107.654335   \n",
       "2019-01-03   34.366501   75.014000  22.553764  46.357166  105.046211   \n",
       "2019-01-04   35.833580   78.769501  23.490444  48.623863  108.286606   \n",
       "2019-01-07   35.753822   81.475502  23.472076  49.047222  109.225136   \n",
       "2019-01-08   36.435398   82.829002  23.426165  48.914913  110.074760   \n",
       "...                ...         ...        ...        ...         ...   \n",
       "2022-10-03  142.449997  115.879997  31.090000  42.560001   97.129997   \n",
       "2022-10-04  146.100006  121.089996  32.380001  44.410000  101.440002   \n",
       "2022-10-05  146.399994  120.949997  31.920000  43.840000  100.800003   \n",
       "2022-10-06  145.429993  120.300003  31.459999  43.060001  100.040001   \n",
       "2022-10-07  140.089996  114.559998  30.750000  42.189999   97.160004   \n",
       "\n",
       "                    F        GME         MS        MSFT        TSLA  \n",
       "Date                                                                 \n",
       "2019-01-02   7.092320   3.160276  36.308510   97.147697   20.674667  \n",
       "2019-01-03   6.984589   3.136097  35.661430   93.573845   20.024000  \n",
       "2019-01-04   7.253917   3.684974  37.117363   97.925880   21.179333  \n",
       "2019-01-07   7.442448   3.743005  37.485836   98.050781   22.330667  \n",
       "2019-01-08   7.514268   3.822798  37.252171   98.761703   22.356667  \n",
       "...               ...        ...        ...         ...         ...  \n",
       "2022-10-03  11.470000  25.379999  80.379997  240.740005  242.399994  \n",
       "2022-10-04  12.360000  27.600000  83.970001  248.880005  249.440002  \n",
       "2022-10-05  12.510000  26.389999  83.110001  249.199997  240.809998  \n",
       "2022-10-06  12.360000  25.990000  81.309998  246.789993  238.130005  \n",
       "2022-10-07  12.200000  25.350000  78.930000  234.240005  223.070007  \n",
       "\n",
       "[950 rows x 10 columns]"
      ]
     },
     "execution_count": 39,
     "metadata": {},
     "output_type": "execute_result"
    }
   ],
   "source": [
    "# Now download data for all 10 companies with one line but only grab the adjusted close price for each. \n",
    "df2 = yf.download(tickers, start, end)['Adj Close']; df2"
   ]
  },
  {
   "cell_type": "markdown",
   "metadata": {},
   "source": [
    "Calculate Return "
   ]
  },
  {
   "cell_type": "code",
   "execution_count": 40,
   "metadata": {},
   "outputs": [
    {
     "data": {
      "text/html": [
       "<div>\n",
       "<style scoped>\n",
       "    .dataframe tbody tr th:only-of-type {\n",
       "        vertical-align: middle;\n",
       "    }\n",
       "\n",
       "    .dataframe tbody tr th {\n",
       "        vertical-align: top;\n",
       "    }\n",
       "\n",
       "    .dataframe thead th {\n",
       "        text-align: right;\n",
       "    }\n",
       "</style>\n",
       "<table border=\"1\" class=\"dataframe\">\n",
       "  <thead>\n",
       "    <tr style=\"text-align: right;\">\n",
       "      <th></th>\n",
       "      <th>AAPL</th>\n",
       "      <th>AMZN</th>\n",
       "      <th>BAC</th>\n",
       "      <th>C</th>\n",
       "      <th>DIS</th>\n",
       "      <th>F</th>\n",
       "      <th>GME</th>\n",
       "      <th>MS</th>\n",
       "      <th>MSFT</th>\n",
       "      <th>TSLA</th>\n",
       "    </tr>\n",
       "    <tr>\n",
       "      <th>Date</th>\n",
       "      <th></th>\n",
       "      <th></th>\n",
       "      <th></th>\n",
       "      <th></th>\n",
       "      <th></th>\n",
       "      <th></th>\n",
       "      <th></th>\n",
       "      <th></th>\n",
       "      <th></th>\n",
       "      <th></th>\n",
       "    </tr>\n",
       "  </thead>\n",
       "  <tbody>\n",
       "    <tr>\n",
       "      <th>2019-01-02</th>\n",
       "      <td>NaN</td>\n",
       "      <td>NaN</td>\n",
       "      <td>NaN</td>\n",
       "      <td>NaN</td>\n",
       "      <td>NaN</td>\n",
       "      <td>NaN</td>\n",
       "      <td>NaN</td>\n",
       "      <td>NaN</td>\n",
       "      <td>NaN</td>\n",
       "      <td>NaN</td>\n",
       "    </tr>\n",
       "    <tr>\n",
       "      <th>2019-01-03</th>\n",
       "      <td>-0.099607</td>\n",
       "      <td>-0.025241</td>\n",
       "      <td>-0.016026</td>\n",
       "      <td>-0.018121</td>\n",
       "      <td>-0.024227</td>\n",
       "      <td>-0.015190</td>\n",
       "      <td>-0.007651</td>\n",
       "      <td>-0.017822</td>\n",
       "      <td>-0.036788</td>\n",
       "      <td>-0.031472</td>\n",
       "    </tr>\n",
       "    <tr>\n",
       "      <th>2019-01-04</th>\n",
       "      <td>0.042689</td>\n",
       "      <td>0.050064</td>\n",
       "      <td>0.041531</td>\n",
       "      <td>0.048896</td>\n",
       "      <td>0.030847</td>\n",
       "      <td>0.038560</td>\n",
       "      <td>0.175019</td>\n",
       "      <td>0.040827</td>\n",
       "      <td>0.046509</td>\n",
       "      <td>0.057697</td>\n",
       "    </tr>\n",
       "    <tr>\n",
       "      <th>2019-01-07</th>\n",
       "      <td>-0.002226</td>\n",
       "      <td>0.034353</td>\n",
       "      <td>-0.000782</td>\n",
       "      <td>0.008707</td>\n",
       "      <td>0.008667</td>\n",
       "      <td>0.025990</td>\n",
       "      <td>0.015748</td>\n",
       "      <td>0.009927</td>\n",
       "      <td>0.001275</td>\n",
       "      <td>0.054361</td>\n",
       "    </tr>\n",
       "    <tr>\n",
       "      <th>2019-01-08</th>\n",
       "      <td>0.019063</td>\n",
       "      <td>0.016612</td>\n",
       "      <td>-0.001956</td>\n",
       "      <td>-0.002698</td>\n",
       "      <td>0.007779</td>\n",
       "      <td>0.009650</td>\n",
       "      <td>0.021318</td>\n",
       "      <td>-0.006233</td>\n",
       "      <td>0.007251</td>\n",
       "      <td>0.001164</td>\n",
       "    </tr>\n",
       "    <tr>\n",
       "      <th>...</th>\n",
       "      <td>...</td>\n",
       "      <td>...</td>\n",
       "      <td>...</td>\n",
       "      <td>...</td>\n",
       "      <td>...</td>\n",
       "      <td>...</td>\n",
       "      <td>...</td>\n",
       "      <td>...</td>\n",
       "      <td>...</td>\n",
       "      <td>...</td>\n",
       "    </tr>\n",
       "    <tr>\n",
       "      <th>2022-10-03</th>\n",
       "      <td>0.030753</td>\n",
       "      <td>0.025487</td>\n",
       "      <td>0.029470</td>\n",
       "      <td>0.021358</td>\n",
       "      <td>0.029683</td>\n",
       "      <td>0.024107</td>\n",
       "      <td>0.009948</td>\n",
       "      <td>0.017340</td>\n",
       "      <td>0.033663</td>\n",
       "      <td>-0.086145</td>\n",
       "    </tr>\n",
       "    <tr>\n",
       "      <th>2022-10-04</th>\n",
       "      <td>0.025623</td>\n",
       "      <td>0.044960</td>\n",
       "      <td>0.041492</td>\n",
       "      <td>0.043468</td>\n",
       "      <td>0.044374</td>\n",
       "      <td>0.077594</td>\n",
       "      <td>0.087471</td>\n",
       "      <td>0.044663</td>\n",
       "      <td>0.033812</td>\n",
       "      <td>0.029043</td>\n",
       "    </tr>\n",
       "    <tr>\n",
       "      <th>2022-10-05</th>\n",
       "      <td>0.002053</td>\n",
       "      <td>-0.001156</td>\n",
       "      <td>-0.014206</td>\n",
       "      <td>-0.012835</td>\n",
       "      <td>-0.006309</td>\n",
       "      <td>0.012136</td>\n",
       "      <td>-0.043841</td>\n",
       "      <td>-0.010242</td>\n",
       "      <td>0.001286</td>\n",
       "      <td>-0.034598</td>\n",
       "    </tr>\n",
       "    <tr>\n",
       "      <th>2022-10-06</th>\n",
       "      <td>-0.006626</td>\n",
       "      <td>-0.005374</td>\n",
       "      <td>-0.014411</td>\n",
       "      <td>-0.017792</td>\n",
       "      <td>-0.007540</td>\n",
       "      <td>-0.011990</td>\n",
       "      <td>-0.015157</td>\n",
       "      <td>-0.021658</td>\n",
       "      <td>-0.009671</td>\n",
       "      <td>-0.011129</td>\n",
       "    </tr>\n",
       "    <tr>\n",
       "      <th>2022-10-07</th>\n",
       "      <td>-0.036719</td>\n",
       "      <td>-0.047714</td>\n",
       "      <td>-0.022568</td>\n",
       "      <td>-0.020204</td>\n",
       "      <td>-0.028788</td>\n",
       "      <td>-0.012945</td>\n",
       "      <td>-0.024625</td>\n",
       "      <td>-0.029271</td>\n",
       "      <td>-0.050853</td>\n",
       "      <td>-0.063243</td>\n",
       "    </tr>\n",
       "  </tbody>\n",
       "</table>\n",
       "<p>950 rows × 10 columns</p>\n",
       "</div>"
      ],
      "text/plain": [
       "                AAPL      AMZN       BAC         C       DIS         F  \\\n",
       "Date                                                                     \n",
       "2019-01-02       NaN       NaN       NaN       NaN       NaN       NaN   \n",
       "2019-01-03 -0.099607 -0.025241 -0.016026 -0.018121 -0.024227 -0.015190   \n",
       "2019-01-04  0.042689  0.050064  0.041531  0.048896  0.030847  0.038560   \n",
       "2019-01-07 -0.002226  0.034353 -0.000782  0.008707  0.008667  0.025990   \n",
       "2019-01-08  0.019063  0.016612 -0.001956 -0.002698  0.007779  0.009650   \n",
       "...              ...       ...       ...       ...       ...       ...   \n",
       "2022-10-03  0.030753  0.025487  0.029470  0.021358  0.029683  0.024107   \n",
       "2022-10-04  0.025623  0.044960  0.041492  0.043468  0.044374  0.077594   \n",
       "2022-10-05  0.002053 -0.001156 -0.014206 -0.012835 -0.006309  0.012136   \n",
       "2022-10-06 -0.006626 -0.005374 -0.014411 -0.017792 -0.007540 -0.011990   \n",
       "2022-10-07 -0.036719 -0.047714 -0.022568 -0.020204 -0.028788 -0.012945   \n",
       "\n",
       "                 GME        MS      MSFT      TSLA  \n",
       "Date                                                \n",
       "2019-01-02       NaN       NaN       NaN       NaN  \n",
       "2019-01-03 -0.007651 -0.017822 -0.036788 -0.031472  \n",
       "2019-01-04  0.175019  0.040827  0.046509  0.057697  \n",
       "2019-01-07  0.015748  0.009927  0.001275  0.054361  \n",
       "2019-01-08  0.021318 -0.006233  0.007251  0.001164  \n",
       "...              ...       ...       ...       ...  \n",
       "2022-10-03  0.009948  0.017340  0.033663 -0.086145  \n",
       "2022-10-04  0.087471  0.044663  0.033812  0.029043  \n",
       "2022-10-05 -0.043841 -0.010242  0.001286 -0.034598  \n",
       "2022-10-06 -0.015157 -0.021658 -0.009671 -0.011129  \n",
       "2022-10-07 -0.024625 -0.029271 -0.050853 -0.063243  \n",
       "\n",
       "[950 rows x 10 columns]"
      ]
     },
     "execution_count": 40,
     "metadata": {},
     "output_type": "execute_result"
    }
   ],
   "source": [
    "returns = df2.pct_change(); returns"
   ]
  },
  {
   "cell_type": "markdown",
   "metadata": {},
   "source": [
    "Make Variance-Covariance Matrix"
   ]
  },
  {
   "cell_type": "code",
   "execution_count": 41,
   "metadata": {},
   "outputs": [
    {
     "data": {
      "text/html": [
       "<div>\n",
       "<style scoped>\n",
       "    .dataframe tbody tr th:only-of-type {\n",
       "        vertical-align: middle;\n",
       "    }\n",
       "\n",
       "    .dataframe tbody tr th {\n",
       "        vertical-align: top;\n",
       "    }\n",
       "\n",
       "    .dataframe thead th {\n",
       "        text-align: right;\n",
       "    }\n",
       "</style>\n",
       "<table border=\"1\" class=\"dataframe\">\n",
       "  <thead>\n",
       "    <tr style=\"text-align: right;\">\n",
       "      <th></th>\n",
       "      <th>AAPL</th>\n",
       "      <th>AMZN</th>\n",
       "      <th>BAC</th>\n",
       "      <th>C</th>\n",
       "      <th>DIS</th>\n",
       "      <th>F</th>\n",
       "      <th>GME</th>\n",
       "      <th>MS</th>\n",
       "      <th>MSFT</th>\n",
       "      <th>TSLA</th>\n",
       "    </tr>\n",
       "  </thead>\n",
       "  <tbody>\n",
       "    <tr>\n",
       "      <th>AAPL</th>\n",
       "      <td>0.000464</td>\n",
       "      <td>0.000309</td>\n",
       "      <td>0.000242</td>\n",
       "      <td>0.000271</td>\n",
       "      <td>0.000220</td>\n",
       "      <td>0.000244</td>\n",
       "      <td>0.000338</td>\n",
       "      <td>0.000281</td>\n",
       "      <td>0.000331</td>\n",
       "      <td>0.000447</td>\n",
       "    </tr>\n",
       "    <tr>\n",
       "      <th>AMZN</th>\n",
       "      <td>0.000309</td>\n",
       "      <td>0.000478</td>\n",
       "      <td>0.000164</td>\n",
       "      <td>0.000180</td>\n",
       "      <td>0.000200</td>\n",
       "      <td>0.000178</td>\n",
       "      <td>0.000276</td>\n",
       "      <td>0.000193</td>\n",
       "      <td>0.000302</td>\n",
       "      <td>0.000417</td>\n",
       "    </tr>\n",
       "    <tr>\n",
       "      <th>BAC</th>\n",
       "      <td>0.000242</td>\n",
       "      <td>0.000164</td>\n",
       "      <td>0.000575</td>\n",
       "      <td>0.000569</td>\n",
       "      <td>0.000325</td>\n",
       "      <td>0.000412</td>\n",
       "      <td>0.000331</td>\n",
       "      <td>0.000490</td>\n",
       "      <td>0.000230</td>\n",
       "      <td>0.000281</td>\n",
       "    </tr>\n",
       "    <tr>\n",
       "      <th>C</th>\n",
       "      <td>0.000271</td>\n",
       "      <td>0.000180</td>\n",
       "      <td>0.000569</td>\n",
       "      <td>0.000706</td>\n",
       "      <td>0.000363</td>\n",
       "      <td>0.000459</td>\n",
       "      <td>0.000469</td>\n",
       "      <td>0.000530</td>\n",
       "      <td>0.000253</td>\n",
       "      <td>0.000347</td>\n",
       "    </tr>\n",
       "    <tr>\n",
       "      <th>DIS</th>\n",
       "      <td>0.000220</td>\n",
       "      <td>0.000200</td>\n",
       "      <td>0.000325</td>\n",
       "      <td>0.000363</td>\n",
       "      <td>0.000467</td>\n",
       "      <td>0.000326</td>\n",
       "      <td>0.000252</td>\n",
       "      <td>0.000325</td>\n",
       "      <td>0.000222</td>\n",
       "      <td>0.000282</td>\n",
       "    </tr>\n",
       "    <tr>\n",
       "      <th>F</th>\n",
       "      <td>0.000244</td>\n",
       "      <td>0.000178</td>\n",
       "      <td>0.000412</td>\n",
       "      <td>0.000459</td>\n",
       "      <td>0.000326</td>\n",
       "      <td>0.000815</td>\n",
       "      <td>0.000552</td>\n",
       "      <td>0.000417</td>\n",
       "      <td>0.000213</td>\n",
       "      <td>0.000400</td>\n",
       "    </tr>\n",
       "    <tr>\n",
       "      <th>GME</th>\n",
       "      <td>0.000338</td>\n",
       "      <td>0.000276</td>\n",
       "      <td>0.000331</td>\n",
       "      <td>0.000469</td>\n",
       "      <td>0.000252</td>\n",
       "      <td>0.000552</td>\n",
       "      <td>0.010621</td>\n",
       "      <td>0.000298</td>\n",
       "      <td>0.000245</td>\n",
       "      <td>0.000695</td>\n",
       "    </tr>\n",
       "    <tr>\n",
       "      <th>MS</th>\n",
       "      <td>0.000281</td>\n",
       "      <td>0.000193</td>\n",
       "      <td>0.000490</td>\n",
       "      <td>0.000530</td>\n",
       "      <td>0.000325</td>\n",
       "      <td>0.000417</td>\n",
       "      <td>0.000298</td>\n",
       "      <td>0.000564</td>\n",
       "      <td>0.000265</td>\n",
       "      <td>0.000315</td>\n",
       "    </tr>\n",
       "    <tr>\n",
       "      <th>MSFT</th>\n",
       "      <td>0.000331</td>\n",
       "      <td>0.000302</td>\n",
       "      <td>0.000230</td>\n",
       "      <td>0.000253</td>\n",
       "      <td>0.000222</td>\n",
       "      <td>0.000213</td>\n",
       "      <td>0.000245</td>\n",
       "      <td>0.000265</td>\n",
       "      <td>0.000385</td>\n",
       "      <td>0.000400</td>\n",
       "    </tr>\n",
       "    <tr>\n",
       "      <th>TSLA</th>\n",
       "      <td>0.000447</td>\n",
       "      <td>0.000417</td>\n",
       "      <td>0.000281</td>\n",
       "      <td>0.000347</td>\n",
       "      <td>0.000282</td>\n",
       "      <td>0.000400</td>\n",
       "      <td>0.000695</td>\n",
       "      <td>0.000315</td>\n",
       "      <td>0.000400</td>\n",
       "      <td>0.001776</td>\n",
       "    </tr>\n",
       "  </tbody>\n",
       "</table>\n",
       "</div>"
      ],
      "text/plain": [
       "          AAPL      AMZN       BAC         C       DIS         F       GME  \\\n",
       "AAPL  0.000464  0.000309  0.000242  0.000271  0.000220  0.000244  0.000338   \n",
       "AMZN  0.000309  0.000478  0.000164  0.000180  0.000200  0.000178  0.000276   \n",
       "BAC   0.000242  0.000164  0.000575  0.000569  0.000325  0.000412  0.000331   \n",
       "C     0.000271  0.000180  0.000569  0.000706  0.000363  0.000459  0.000469   \n",
       "DIS   0.000220  0.000200  0.000325  0.000363  0.000467  0.000326  0.000252   \n",
       "F     0.000244  0.000178  0.000412  0.000459  0.000326  0.000815  0.000552   \n",
       "GME   0.000338  0.000276  0.000331  0.000469  0.000252  0.000552  0.010621   \n",
       "MS    0.000281  0.000193  0.000490  0.000530  0.000325  0.000417  0.000298   \n",
       "MSFT  0.000331  0.000302  0.000230  0.000253  0.000222  0.000213  0.000245   \n",
       "TSLA  0.000447  0.000417  0.000281  0.000347  0.000282  0.000400  0.000695   \n",
       "\n",
       "            MS      MSFT      TSLA  \n",
       "AAPL  0.000281  0.000331  0.000447  \n",
       "AMZN  0.000193  0.000302  0.000417  \n",
       "BAC   0.000490  0.000230  0.000281  \n",
       "C     0.000530  0.000253  0.000347  \n",
       "DIS   0.000325  0.000222  0.000282  \n",
       "F     0.000417  0.000213  0.000400  \n",
       "GME   0.000298  0.000245  0.000695  \n",
       "MS    0.000564  0.000265  0.000315  \n",
       "MSFT  0.000265  0.000385  0.000400  \n",
       "TSLA  0.000315  0.000400  0.001776  "
      ]
     },
     "execution_count": 41,
     "metadata": {},
     "output_type": "execute_result"
    }
   ],
   "source": [
    "cov_matrix = returns.cov(); cov_matrix"
   ]
  },
  {
   "cell_type": "markdown",
   "metadata": {},
   "source": [
    "Expected Returns or Average Returns"
   ]
  },
  {
   "cell_type": "code",
   "execution_count": 42,
   "metadata": {},
   "outputs": [
    {
     "data": {
      "text/plain": [
       "AAPL    0.001603\n",
       "AMZN    0.000658\n",
       "BAC     0.000596\n",
       "C       0.000235\n",
       "DIS     0.000123\n",
       "F       0.000976\n",
       "GME     0.006688\n",
       "MS      0.001099\n",
       "MSFT    0.001121\n",
       "TSLA    0.003396\n",
       "dtype: float64"
      ]
     },
     "execution_count": 42,
     "metadata": {},
     "output_type": "execute_result"
    }
   ],
   "source": [
    "avg_returns = returns.mean()\n",
    "avg_returns "
   ]
  },
  {
   "cell_type": "markdown",
   "metadata": {},
   "source": [
    "Count of return values"
   ]
  },
  {
   "cell_type": "code",
   "execution_count": 43,
   "metadata": {},
   "outputs": [
    {
     "data": {
      "text/plain": [
       "949"
      ]
     },
     "execution_count": 43,
     "metadata": {},
     "output_type": "execute_result"
    }
   ],
   "source": [
    "count = returns.count()[0]\n",
    "count"
   ]
  },
  {
   "cell_type": "markdown",
   "metadata": {},
   "source": [
    "Protfolio Variance "
   ]
  },
  {
   "cell_type": "markdown",
   "metadata": {},
   "source": [
    "Expected Portfolio Return: Average Return * Weights\n",
    "\n",
    "Expected Portfolio Variance = Weights(Transpose) * (Covariance Matrix) * Weights"
   ]
  },
  {
   "cell_type": "code",
   "execution_count": 44,
   "metadata": {},
   "outputs": [],
   "source": [
    "port_mean = avg_returns @ weights\n",
    "port_std = np.sqrt(weights.T @ cov_matrix @ weights) "
   ]
  },
  {
   "cell_type": "code",
   "execution_count": 48,
   "metadata": {},
   "outputs": [
    {
     "data": {
      "text/plain": [
       "0.0016494331493370883"
      ]
     },
     "execution_count": 48,
     "metadata": {},
     "output_type": "execute_result"
    }
   ],
   "source": [
    "port_mean"
   ]
  },
  {
   "cell_type": "code",
   "execution_count": 47,
   "metadata": {},
   "outputs": [
    {
     "data": {
      "text/plain": [
       "0.021578184531252303"
      ]
     },
     "execution_count": 47,
     "metadata": {},
     "output_type": "execute_result"
    }
   ],
   "source": [
    "port_std"
   ]
  },
  {
   "cell_type": "markdown",
   "metadata": {},
   "source": [
    "Build Normal Distribution Curve"
   ]
  },
  {
   "cell_type": "code",
   "execution_count": 50,
   "metadata": {},
   "outputs": [
    {
     "data": {
      "image/png": "[encoded data removed]",
      "text/plain": [
       "<Figure size 432x288 with 1 Axes>"
      ]
     },
     "metadata": {
      "needs_background": "light"
     },
     "output_type": "display_data"
    }
   ],
   "source": [
    "x = np.arange(-0.05, 0.05, 0.001)\n",
    "normal_distribution = norm.pdf(x, port_mean, port_std)\n",
    "plt.plot(x,normal_distribution,color = 'b')\n",
    "plt.show()"
   ]
  },
  {
   "cell_type": "markdown",
   "metadata": {},
   "source": [
    "Calculate VaR"
   ]
  },
  {
   "cell_type": "code",
   "execution_count": 58,
   "metadata": {},
   "outputs": [
    {
     "data": {
      "text/plain": [
       "-0.03384352193992143"
      ]
     },
     "execution_count": 58,
     "metadata": {},
     "output_type": "execute_result"
    }
   ],
   "source": [
    "conf_lvl = 0.05\n",
    "VaR = norm.ppf(conf_lvl, port_mean, port_std)\n",
    "VaR"
   ]
  },
  {
   "cell_type": "markdown",
   "metadata": {},
   "source": [
    "We can say with 95% confidence that our portfolio will not loose more than 3.3% in 1 day."
   ]
  },
  {
   "cell_type": "markdown",
   "metadata": {},
   "source": [
    "Calculating VaR for longer time frames."
   ]
  },
  {
   "cell_type": "code",
   "execution_count": 56,
   "metadata": {},
   "outputs": [
    {
     "data": {
      "text/plain": [
       "-0.07567641565566986"
      ]
     },
     "execution_count": 56,
     "metadata": {},
     "output_type": "execute_result"
    }
   ],
   "source": [
    "days = 5\n",
    "VaR * np.sqrt(days)"
   ]
  },
  {
   "cell_type": "markdown",
   "metadata": {},
   "source": [
    "Calculating Confidence Interval"
   ]
  },
  {
   "cell_type": "code",
   "execution_count": 57,
   "metadata": {},
   "outputs": [],
   "source": [
    "lower = port_mean - 2 * port_std / np.sqrt(count)\n",
    "higher = port_mean + 2 * port_std / np.sqrt(count)"
   ]
  },
  {
   "cell_type": "code",
   "execution_count": 54,
   "metadata": {},
   "outputs": [
    {
     "data": {
      "text/plain": [
       "0.0002485181274739954"
      ]
     },
     "execution_count": 54,
     "metadata": {},
     "output_type": "execute_result"
    }
   ],
   "source": [
    "lower"
   ]
  },
  {
   "cell_type": "code",
   "execution_count": 55,
   "metadata": {},
   "outputs": [
    {
     "data": {
      "text/plain": [
       "0.0030503481712001812"
      ]
     },
     "execution_count": 55,
     "metadata": {},
     "output_type": "execute_result"
    }
   ],
   "source": [
    "higher"
   ]
  }
 ],
 "metadata": {
  "kernelspec": {
   "display_name": "Python 3.10.0 64-bit",
   "language": "python",
   "name": "python3"
  },
  "language_info": {
   "codemirror_mode": {
    "name": "ipython",
    "version": 3
   },
   "file_extension": ".py",
   "mimetype": "text/x-python",
   "name": "python",
   "nbconvert_exporter": "python",
   "pygments_lexer": "ipython3",
   "version": "3.10.0"
  },
  "orig_nbformat": 4,
  "vscode": {
   "interpreter": {
    "hash": "e038e575f35dd289d7e3684377dff5dd74a086626e6db16524b72780456b9adf"
   }
  }
 },
 "nbformat": 4,
 "nbformat_minor": 2
}
